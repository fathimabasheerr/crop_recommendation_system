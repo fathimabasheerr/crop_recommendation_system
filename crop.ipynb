{
  "nbformat": 4,
  "nbformat_minor": 0,
  "metadata": {
    "colab": {
      "provenance": [],
      "mount_file_id": "1xKYTYubjr510qwV5W8fkrTDxMW-GXpoA",
      "authorship_tag": "ABX9TyNzmszIOLotwY2y+FmTGcTj",
      "include_colab_link": true
    },
    "kernelspec": {
      "name": "python3",
      "display_name": "Python 3"
    },
    "language_info": {
      "name": "python"
    }
  },
  "cells": [
    {
      "cell_type": "markdown",
      "metadata": {
        "id": "view-in-github",
        "colab_type": "text"
      },
      "source": [
        "<a href=\"https://colab.research.google.com/github/fathimabasheerr/crop_recommendation_system/blob/main/crop.ipynb\" target=\"_parent\"><img src=\"https://colab.research.google.com/assets/colab-badge.svg\" alt=\"Open In Colab\"/></a>"
      ]
    },
    {
      "cell_type": "code",
      "execution_count": 712,
      "metadata": {
        "id": "srnoOY62-qjv"
      },
      "outputs": [],
      "source": [
        "import pandas as pd\n",
        "import matplotlib as plt\n",
        "import numpy as np\n"
      ]
    },
    {
      "cell_type": "code",
      "source": [
        "from google.colab import drive\n",
        "drive.mount('/content/drive')"
      ],
      "metadata": {
        "colab": {
          "base_uri": "https://localhost:8080/"
        },
        "id": "ahE_ffPcO8kc",
        "outputId": "039dba40-aab2-4c8f-dd8a-53ee6aa39fc8"
      },
      "execution_count": 713,
      "outputs": [
        {
          "output_type": "stream",
          "name": "stdout",
          "text": [
            "Drive already mounted at /content/drive; to attempt to forcibly remount, call drive.mount(\"/content/drive\", force_remount=True).\n"
          ]
        }
      ]
    },
    {
      "cell_type": "code",
      "source": [
        "!pwd"
      ],
      "metadata": {
        "colab": {
          "base_uri": "https://localhost:8080/"
        },
        "id": "4TL7xSThPsa4",
        "outputId": "f281fec7-b1b4-4e7b-8342-46cd037b139e"
      },
      "execution_count": 714,
      "outputs": [
        {
          "output_type": "stream",
          "name": "stdout",
          "text": [
            "/content\n"
          ]
        }
      ]
    },
    {
      "cell_type": "code",
      "source": [
        "dataset=pd.read_csv('/content/drive/MyDrive/dataset/Crop_recommendation.csv')"
      ],
      "metadata": {
        "id": "hWkF_PDtT_x8"
      },
      "execution_count": 715,
      "outputs": []
    },
    {
      "cell_type": "code",
      "source": [
        "dataset"
      ],
      "metadata": {
        "colab": {
          "base_uri": "https://localhost:8080/",
          "height": 423
        },
        "id": "63udFFEYU11m",
        "outputId": "5c04db26-5b4a-472a-ccb4-fbe975358cbc"
      },
      "execution_count": 716,
      "outputs": [
        {
          "output_type": "execute_result",
          "data": {
            "text/plain": [
              "        N   P   K  temperature   humidity        ph    rainfall   label\n",
              "0      90  42  43    20.879744  82.002744  6.502985  202.935536    rice\n",
              "1      85  58  41    21.770462  80.319644  7.038096  226.655537    rice\n",
              "2      60  55  44    23.004459  82.320763  7.840207  263.964248    rice\n",
              "3      74  35  40    26.491096  80.158363  6.980401  242.864034    rice\n",
              "4      78  42  42    20.130175  81.604873  7.628473  262.717340    rice\n",
              "...   ...  ..  ..          ...        ...       ...         ...     ...\n",
              "2195  107  34  32    26.774637  66.413269  6.780064  177.774507  coffee\n",
              "2196   99  15  27    27.417112  56.636362  6.086922  127.924610  coffee\n",
              "2197  118  33  30    24.131797  67.225123  6.362608  173.322839  coffee\n",
              "2198  117  32  34    26.272418  52.127394  6.758793  127.175293  coffee\n",
              "2199  104  18  30    23.603016  60.396475  6.779833  140.937041  coffee\n",
              "\n",
              "[2200 rows x 8 columns]"
            ],
            "text/html": [
              "\n",
              "  <div id=\"df-4d6eb82d-1ad4-4921-91ee-fca007ca9ef0\">\n",
              "    <div class=\"colab-df-container\">\n",
              "      <div>\n",
              "<style scoped>\n",
              "    .dataframe tbody tr th:only-of-type {\n",
              "        vertical-align: middle;\n",
              "    }\n",
              "\n",
              "    .dataframe tbody tr th {\n",
              "        vertical-align: top;\n",
              "    }\n",
              "\n",
              "    .dataframe thead th {\n",
              "        text-align: right;\n",
              "    }\n",
              "</style>\n",
              "<table border=\"1\" class=\"dataframe\">\n",
              "  <thead>\n",
              "    <tr style=\"text-align: right;\">\n",
              "      <th></th>\n",
              "      <th>N</th>\n",
              "      <th>P</th>\n",
              "      <th>K</th>\n",
              "      <th>temperature</th>\n",
              "      <th>humidity</th>\n",
              "      <th>ph</th>\n",
              "      <th>rainfall</th>\n",
              "      <th>label</th>\n",
              "    </tr>\n",
              "  </thead>\n",
              "  <tbody>\n",
              "    <tr>\n",
              "      <th>0</th>\n",
              "      <td>90</td>\n",
              "      <td>42</td>\n",
              "      <td>43</td>\n",
              "      <td>20.879744</td>\n",
              "      <td>82.002744</td>\n",
              "      <td>6.502985</td>\n",
              "      <td>202.935536</td>\n",
              "      <td>rice</td>\n",
              "    </tr>\n",
              "    <tr>\n",
              "      <th>1</th>\n",
              "      <td>85</td>\n",
              "      <td>58</td>\n",
              "      <td>41</td>\n",
              "      <td>21.770462</td>\n",
              "      <td>80.319644</td>\n",
              "      <td>7.038096</td>\n",
              "      <td>226.655537</td>\n",
              "      <td>rice</td>\n",
              "    </tr>\n",
              "    <tr>\n",
              "      <th>2</th>\n",
              "      <td>60</td>\n",
              "      <td>55</td>\n",
              "      <td>44</td>\n",
              "      <td>23.004459</td>\n",
              "      <td>82.320763</td>\n",
              "      <td>7.840207</td>\n",
              "      <td>263.964248</td>\n",
              "      <td>rice</td>\n",
              "    </tr>\n",
              "    <tr>\n",
              "      <th>3</th>\n",
              "      <td>74</td>\n",
              "      <td>35</td>\n",
              "      <td>40</td>\n",
              "      <td>26.491096</td>\n",
              "      <td>80.158363</td>\n",
              "      <td>6.980401</td>\n",
              "      <td>242.864034</td>\n",
              "      <td>rice</td>\n",
              "    </tr>\n",
              "    <tr>\n",
              "      <th>4</th>\n",
              "      <td>78</td>\n",
              "      <td>42</td>\n",
              "      <td>42</td>\n",
              "      <td>20.130175</td>\n",
              "      <td>81.604873</td>\n",
              "      <td>7.628473</td>\n",
              "      <td>262.717340</td>\n",
              "      <td>rice</td>\n",
              "    </tr>\n",
              "    <tr>\n",
              "      <th>...</th>\n",
              "      <td>...</td>\n",
              "      <td>...</td>\n",
              "      <td>...</td>\n",
              "      <td>...</td>\n",
              "      <td>...</td>\n",
              "      <td>...</td>\n",
              "      <td>...</td>\n",
              "      <td>...</td>\n",
              "    </tr>\n",
              "    <tr>\n",
              "      <th>2195</th>\n",
              "      <td>107</td>\n",
              "      <td>34</td>\n",
              "      <td>32</td>\n",
              "      <td>26.774637</td>\n",
              "      <td>66.413269</td>\n",
              "      <td>6.780064</td>\n",
              "      <td>177.774507</td>\n",
              "      <td>coffee</td>\n",
              "    </tr>\n",
              "    <tr>\n",
              "      <th>2196</th>\n",
              "      <td>99</td>\n",
              "      <td>15</td>\n",
              "      <td>27</td>\n",
              "      <td>27.417112</td>\n",
              "      <td>56.636362</td>\n",
              "      <td>6.086922</td>\n",
              "      <td>127.924610</td>\n",
              "      <td>coffee</td>\n",
              "    </tr>\n",
              "    <tr>\n",
              "      <th>2197</th>\n",
              "      <td>118</td>\n",
              "      <td>33</td>\n",
              "      <td>30</td>\n",
              "      <td>24.131797</td>\n",
              "      <td>67.225123</td>\n",
              "      <td>6.362608</td>\n",
              "      <td>173.322839</td>\n",
              "      <td>coffee</td>\n",
              "    </tr>\n",
              "    <tr>\n",
              "      <th>2198</th>\n",
              "      <td>117</td>\n",
              "      <td>32</td>\n",
              "      <td>34</td>\n",
              "      <td>26.272418</td>\n",
              "      <td>52.127394</td>\n",
              "      <td>6.758793</td>\n",
              "      <td>127.175293</td>\n",
              "      <td>coffee</td>\n",
              "    </tr>\n",
              "    <tr>\n",
              "      <th>2199</th>\n",
              "      <td>104</td>\n",
              "      <td>18</td>\n",
              "      <td>30</td>\n",
              "      <td>23.603016</td>\n",
              "      <td>60.396475</td>\n",
              "      <td>6.779833</td>\n",
              "      <td>140.937041</td>\n",
              "      <td>coffee</td>\n",
              "    </tr>\n",
              "  </tbody>\n",
              "</table>\n",
              "<p>2200 rows × 8 columns</p>\n",
              "</div>\n",
              "      <button class=\"colab-df-convert\" onclick=\"convertToInteractive('df-4d6eb82d-1ad4-4921-91ee-fca007ca9ef0')\"\n",
              "              title=\"Convert this dataframe to an interactive table.\"\n",
              "              style=\"display:none;\">\n",
              "        \n",
              "  <svg xmlns=\"http://www.w3.org/2000/svg\" height=\"24px\"viewBox=\"0 0 24 24\"\n",
              "       width=\"24px\">\n",
              "    <path d=\"M0 0h24v24H0V0z\" fill=\"none\"/>\n",
              "    <path d=\"M18.56 5.44l.94 2.06.94-2.06 2.06-.94-2.06-.94-.94-2.06-.94 2.06-2.06.94zm-11 1L8.5 8.5l.94-2.06 2.06-.94-2.06-.94L8.5 2.5l-.94 2.06-2.06.94zm10 10l.94 2.06.94-2.06 2.06-.94-2.06-.94-.94-2.06-.94 2.06-2.06.94z\"/><path d=\"M17.41 7.96l-1.37-1.37c-.4-.4-.92-.59-1.43-.59-.52 0-1.04.2-1.43.59L10.3 9.45l-7.72 7.72c-.78.78-.78 2.05 0 2.83L4 21.41c.39.39.9.59 1.41.59.51 0 1.02-.2 1.41-.59l7.78-7.78 2.81-2.81c.8-.78.8-2.07 0-2.86zM5.41 20L4 18.59l7.72-7.72 1.47 1.35L5.41 20z\"/>\n",
              "  </svg>\n",
              "      </button>\n",
              "      \n",
              "  <style>\n",
              "    .colab-df-container {\n",
              "      display:flex;\n",
              "      flex-wrap:wrap;\n",
              "      gap: 12px;\n",
              "    }\n",
              "\n",
              "    .colab-df-convert {\n",
              "      background-color: #E8F0FE;\n",
              "      border: none;\n",
              "      border-radius: 50%;\n",
              "      cursor: pointer;\n",
              "      display: none;\n",
              "      fill: #1967D2;\n",
              "      height: 32px;\n",
              "      padding: 0 0 0 0;\n",
              "      width: 32px;\n",
              "    }\n",
              "\n",
              "    .colab-df-convert:hover {\n",
              "      background-color: #E2EBFA;\n",
              "      box-shadow: 0px 1px 2px rgba(60, 64, 67, 0.3), 0px 1px 3px 1px rgba(60, 64, 67, 0.15);\n",
              "      fill: #174EA6;\n",
              "    }\n",
              "\n",
              "    [theme=dark] .colab-df-convert {\n",
              "      background-color: #3B4455;\n",
              "      fill: #D2E3FC;\n",
              "    }\n",
              "\n",
              "    [theme=dark] .colab-df-convert:hover {\n",
              "      background-color: #434B5C;\n",
              "      box-shadow: 0px 1px 3px 1px rgba(0, 0, 0, 0.15);\n",
              "      filter: drop-shadow(0px 1px 2px rgba(0, 0, 0, 0.3));\n",
              "      fill: #FFFFFF;\n",
              "    }\n",
              "  </style>\n",
              "\n",
              "      <script>\n",
              "        const buttonEl =\n",
              "          document.querySelector('#df-4d6eb82d-1ad4-4921-91ee-fca007ca9ef0 button.colab-df-convert');\n",
              "        buttonEl.style.display =\n",
              "          google.colab.kernel.accessAllowed ? 'block' : 'none';\n",
              "\n",
              "        async function convertToInteractive(key) {\n",
              "          const element = document.querySelector('#df-4d6eb82d-1ad4-4921-91ee-fca007ca9ef0');\n",
              "          const dataTable =\n",
              "            await google.colab.kernel.invokeFunction('convertToInteractive',\n",
              "                                                     [key], {});\n",
              "          if (!dataTable) return;\n",
              "\n",
              "          const docLinkHtml = 'Like what you see? Visit the ' +\n",
              "            '<a target=\"_blank\" href=https://colab.research.google.com/notebooks/data_table.ipynb>data table notebook</a>'\n",
              "            + ' to learn more about interactive tables.';\n",
              "          element.innerHTML = '';\n",
              "          dataTable['output_type'] = 'display_data';\n",
              "          await google.colab.output.renderOutput(dataTable, element);\n",
              "          const docLink = document.createElement('div');\n",
              "          docLink.innerHTML = docLinkHtml;\n",
              "          element.appendChild(docLink);\n",
              "        }\n",
              "      </script>\n",
              "    </div>\n",
              "  </div>\n",
              "  "
            ]
          },
          "metadata": {},
          "execution_count": 716
        }
      ]
    },
    {
      "cell_type": "code",
      "source": [
        "new_data = pd.DataFrame([{'N':108,'P':35,'K':25,'temperature':23.98143338, 'humidity':61.10935084,'ph':6.971963169,'rainfall':161.5279095}])"
      ],
      "metadata": {
        "id": "_m_ty_nSwPo2"
      },
      "execution_count": 717,
      "outputs": []
    },
    {
      "cell_type": "code",
      "source": [
        "data = dataset.append(new_data)"
      ],
      "metadata": {
        "id": "ExRKnDUdw2oQ"
      },
      "execution_count": 718,
      "outputs": []
    },
    {
      "cell_type": "code",
      "source": [
        "from sklearn.preprocessing import StandardScaler"
      ],
      "metadata": {
        "id": "wglWWvZGAOjA"
      },
      "execution_count": 719,
      "outputs": []
    },
    {
      "cell_type": "code",
      "source": [
        "data"
      ],
      "metadata": {
        "colab": {
          "base_uri": "https://localhost:8080/",
          "height": 423
        },
        "id": "uBG5NHrcIv3w",
        "outputId": "8c489f4f-47b3-4e38-a404-74816408ad2f"
      },
      "execution_count": 720,
      "outputs": [
        {
          "output_type": "execute_result",
          "data": {
            "text/plain": [
              "        N   P   K  temperature   humidity        ph    rainfall   label\n",
              "0      90  42  43    20.879744  82.002744  6.502985  202.935536    rice\n",
              "1      85  58  41    21.770462  80.319644  7.038096  226.655537    rice\n",
              "2      60  55  44    23.004459  82.320763  7.840207  263.964248    rice\n",
              "3      74  35  40    26.491096  80.158363  6.980401  242.864034    rice\n",
              "4      78  42  42    20.130175  81.604873  7.628473  262.717340    rice\n",
              "...   ...  ..  ..          ...        ...       ...         ...     ...\n",
              "2196   99  15  27    27.417112  56.636362  6.086922  127.924610  coffee\n",
              "2197  118  33  30    24.131797  67.225123  6.362608  173.322839  coffee\n",
              "2198  117  32  34    26.272418  52.127394  6.758793  127.175293  coffee\n",
              "2199  104  18  30    23.603016  60.396475  6.779833  140.937041  coffee\n",
              "0     108  35  25    23.981433  61.109351  6.971963  161.527909     NaN\n",
              "\n",
              "[2201 rows x 8 columns]"
            ],
            "text/html": [
              "\n",
              "  <div id=\"df-10aa8b1b-a3f0-4e86-88b0-2222f6228d16\">\n",
              "    <div class=\"colab-df-container\">\n",
              "      <div>\n",
              "<style scoped>\n",
              "    .dataframe tbody tr th:only-of-type {\n",
              "        vertical-align: middle;\n",
              "    }\n",
              "\n",
              "    .dataframe tbody tr th {\n",
              "        vertical-align: top;\n",
              "    }\n",
              "\n",
              "    .dataframe thead th {\n",
              "        text-align: right;\n",
              "    }\n",
              "</style>\n",
              "<table border=\"1\" class=\"dataframe\">\n",
              "  <thead>\n",
              "    <tr style=\"text-align: right;\">\n",
              "      <th></th>\n",
              "      <th>N</th>\n",
              "      <th>P</th>\n",
              "      <th>K</th>\n",
              "      <th>temperature</th>\n",
              "      <th>humidity</th>\n",
              "      <th>ph</th>\n",
              "      <th>rainfall</th>\n",
              "      <th>label</th>\n",
              "    </tr>\n",
              "  </thead>\n",
              "  <tbody>\n",
              "    <tr>\n",
              "      <th>0</th>\n",
              "      <td>90</td>\n",
              "      <td>42</td>\n",
              "      <td>43</td>\n",
              "      <td>20.879744</td>\n",
              "      <td>82.002744</td>\n",
              "      <td>6.502985</td>\n",
              "      <td>202.935536</td>\n",
              "      <td>rice</td>\n",
              "    </tr>\n",
              "    <tr>\n",
              "      <th>1</th>\n",
              "      <td>85</td>\n",
              "      <td>58</td>\n",
              "      <td>41</td>\n",
              "      <td>21.770462</td>\n",
              "      <td>80.319644</td>\n",
              "      <td>7.038096</td>\n",
              "      <td>226.655537</td>\n",
              "      <td>rice</td>\n",
              "    </tr>\n",
              "    <tr>\n",
              "      <th>2</th>\n",
              "      <td>60</td>\n",
              "      <td>55</td>\n",
              "      <td>44</td>\n",
              "      <td>23.004459</td>\n",
              "      <td>82.320763</td>\n",
              "      <td>7.840207</td>\n",
              "      <td>263.964248</td>\n",
              "      <td>rice</td>\n",
              "    </tr>\n",
              "    <tr>\n",
              "      <th>3</th>\n",
              "      <td>74</td>\n",
              "      <td>35</td>\n",
              "      <td>40</td>\n",
              "      <td>26.491096</td>\n",
              "      <td>80.158363</td>\n",
              "      <td>6.980401</td>\n",
              "      <td>242.864034</td>\n",
              "      <td>rice</td>\n",
              "    </tr>\n",
              "    <tr>\n",
              "      <th>4</th>\n",
              "      <td>78</td>\n",
              "      <td>42</td>\n",
              "      <td>42</td>\n",
              "      <td>20.130175</td>\n",
              "      <td>81.604873</td>\n",
              "      <td>7.628473</td>\n",
              "      <td>262.717340</td>\n",
              "      <td>rice</td>\n",
              "    </tr>\n",
              "    <tr>\n",
              "      <th>...</th>\n",
              "      <td>...</td>\n",
              "      <td>...</td>\n",
              "      <td>...</td>\n",
              "      <td>...</td>\n",
              "      <td>...</td>\n",
              "      <td>...</td>\n",
              "      <td>...</td>\n",
              "      <td>...</td>\n",
              "    </tr>\n",
              "    <tr>\n",
              "      <th>2196</th>\n",
              "      <td>99</td>\n",
              "      <td>15</td>\n",
              "      <td>27</td>\n",
              "      <td>27.417112</td>\n",
              "      <td>56.636362</td>\n",
              "      <td>6.086922</td>\n",
              "      <td>127.924610</td>\n",
              "      <td>coffee</td>\n",
              "    </tr>\n",
              "    <tr>\n",
              "      <th>2197</th>\n",
              "      <td>118</td>\n",
              "      <td>33</td>\n",
              "      <td>30</td>\n",
              "      <td>24.131797</td>\n",
              "      <td>67.225123</td>\n",
              "      <td>6.362608</td>\n",
              "      <td>173.322839</td>\n",
              "      <td>coffee</td>\n",
              "    </tr>\n",
              "    <tr>\n",
              "      <th>2198</th>\n",
              "      <td>117</td>\n",
              "      <td>32</td>\n",
              "      <td>34</td>\n",
              "      <td>26.272418</td>\n",
              "      <td>52.127394</td>\n",
              "      <td>6.758793</td>\n",
              "      <td>127.175293</td>\n",
              "      <td>coffee</td>\n",
              "    </tr>\n",
              "    <tr>\n",
              "      <th>2199</th>\n",
              "      <td>104</td>\n",
              "      <td>18</td>\n",
              "      <td>30</td>\n",
              "      <td>23.603016</td>\n",
              "      <td>60.396475</td>\n",
              "      <td>6.779833</td>\n",
              "      <td>140.937041</td>\n",
              "      <td>coffee</td>\n",
              "    </tr>\n",
              "    <tr>\n",
              "      <th>0</th>\n",
              "      <td>108</td>\n",
              "      <td>35</td>\n",
              "      <td>25</td>\n",
              "      <td>23.981433</td>\n",
              "      <td>61.109351</td>\n",
              "      <td>6.971963</td>\n",
              "      <td>161.527909</td>\n",
              "      <td>NaN</td>\n",
              "    </tr>\n",
              "  </tbody>\n",
              "</table>\n",
              "<p>2201 rows × 8 columns</p>\n",
              "</div>\n",
              "      <button class=\"colab-df-convert\" onclick=\"convertToInteractive('df-10aa8b1b-a3f0-4e86-88b0-2222f6228d16')\"\n",
              "              title=\"Convert this dataframe to an interactive table.\"\n",
              "              style=\"display:none;\">\n",
              "        \n",
              "  <svg xmlns=\"http://www.w3.org/2000/svg\" height=\"24px\"viewBox=\"0 0 24 24\"\n",
              "       width=\"24px\">\n",
              "    <path d=\"M0 0h24v24H0V0z\" fill=\"none\"/>\n",
              "    <path d=\"M18.56 5.44l.94 2.06.94-2.06 2.06-.94-2.06-.94-.94-2.06-.94 2.06-2.06.94zm-11 1L8.5 8.5l.94-2.06 2.06-.94-2.06-.94L8.5 2.5l-.94 2.06-2.06.94zm10 10l.94 2.06.94-2.06 2.06-.94-2.06-.94-.94-2.06-.94 2.06-2.06.94z\"/><path d=\"M17.41 7.96l-1.37-1.37c-.4-.4-.92-.59-1.43-.59-.52 0-1.04.2-1.43.59L10.3 9.45l-7.72 7.72c-.78.78-.78 2.05 0 2.83L4 21.41c.39.39.9.59 1.41.59.51 0 1.02-.2 1.41-.59l7.78-7.78 2.81-2.81c.8-.78.8-2.07 0-2.86zM5.41 20L4 18.59l7.72-7.72 1.47 1.35L5.41 20z\"/>\n",
              "  </svg>\n",
              "      </button>\n",
              "      \n",
              "  <style>\n",
              "    .colab-df-container {\n",
              "      display:flex;\n",
              "      flex-wrap:wrap;\n",
              "      gap: 12px;\n",
              "    }\n",
              "\n",
              "    .colab-df-convert {\n",
              "      background-color: #E8F0FE;\n",
              "      border: none;\n",
              "      border-radius: 50%;\n",
              "      cursor: pointer;\n",
              "      display: none;\n",
              "      fill: #1967D2;\n",
              "      height: 32px;\n",
              "      padding: 0 0 0 0;\n",
              "      width: 32px;\n",
              "    }\n",
              "\n",
              "    .colab-df-convert:hover {\n",
              "      background-color: #E2EBFA;\n",
              "      box-shadow: 0px 1px 2px rgba(60, 64, 67, 0.3), 0px 1px 3px 1px rgba(60, 64, 67, 0.15);\n",
              "      fill: #174EA6;\n",
              "    }\n",
              "\n",
              "    [theme=dark] .colab-df-convert {\n",
              "      background-color: #3B4455;\n",
              "      fill: #D2E3FC;\n",
              "    }\n",
              "\n",
              "    [theme=dark] .colab-df-convert:hover {\n",
              "      background-color: #434B5C;\n",
              "      box-shadow: 0px 1px 3px 1px rgba(0, 0, 0, 0.15);\n",
              "      filter: drop-shadow(0px 1px 2px rgba(0, 0, 0, 0.3));\n",
              "      fill: #FFFFFF;\n",
              "    }\n",
              "  </style>\n",
              "\n",
              "      <script>\n",
              "        const buttonEl =\n",
              "          document.querySelector('#df-10aa8b1b-a3f0-4e86-88b0-2222f6228d16 button.colab-df-convert');\n",
              "        buttonEl.style.display =\n",
              "          google.colab.kernel.accessAllowed ? 'block' : 'none';\n",
              "\n",
              "        async function convertToInteractive(key) {\n",
              "          const element = document.querySelector('#df-10aa8b1b-a3f0-4e86-88b0-2222f6228d16');\n",
              "          const dataTable =\n",
              "            await google.colab.kernel.invokeFunction('convertToInteractive',\n",
              "                                                     [key], {});\n",
              "          if (!dataTable) return;\n",
              "\n",
              "          const docLinkHtml = 'Like what you see? Visit the ' +\n",
              "            '<a target=\"_blank\" href=https://colab.research.google.com/notebooks/data_table.ipynb>data table notebook</a>'\n",
              "            + ' to learn more about interactive tables.';\n",
              "          element.innerHTML = '';\n",
              "          dataTable['output_type'] = 'display_data';\n",
              "          await google.colab.output.renderOutput(dataTable, element);\n",
              "          const docLink = document.createElement('div');\n",
              "          docLink.innerHTML = docLinkHtml;\n",
              "          element.appendChild(docLink);\n",
              "        }\n",
              "      </script>\n",
              "    </div>\n",
              "  </div>\n",
              "  "
            ]
          },
          "metadata": {},
          "execution_count": 720
        }
      ]
    },
    {
      "cell_type": "code",
      "source": [
        "scaler=StandardScaler()"
      ],
      "metadata": {
        "id": "i1kubdtbAkdV"
      },
      "execution_count": 721,
      "outputs": []
    },
    {
      "cell_type": "code",
      "source": [
        "scaler.fit(data.drop(\"label\",axis=1))"
      ],
      "metadata": {
        "colab": {
          "base_uri": "https://localhost:8080/"
        },
        "id": "_V6R7E_iA5ze",
        "outputId": "cbca8d9f-ab53-4d29-f0f4-32cf29e27355"
      },
      "execution_count": 722,
      "outputs": [
        {
          "output_type": "execute_result",
          "data": {
            "text/plain": [
              "StandardScaler()"
            ]
          },
          "metadata": {},
          "execution_count": 722
        }
      ]
    },
    {
      "cell_type": "code",
      "source": [
        "dataset.columns[:-1]"
      ],
      "metadata": {
        "colab": {
          "base_uri": "https://localhost:8080/"
        },
        "id": "qatu_HVgB7wb",
        "outputId": "d72ea424-20a8-48e2-e0fc-d2ebb55bf5f5"
      },
      "execution_count": 723,
      "outputs": [
        {
          "output_type": "execute_result",
          "data": {
            "text/plain": [
              "Index(['N', 'P', 'K', 'temperature', 'humidity', 'ph', 'rainfall'], dtype='object')"
            ]
          },
          "metadata": {},
          "execution_count": 723
        }
      ]
    },
    {
      "cell_type": "code",
      "source": [
        "Scaler_feature=scaler.transform(data.drop(\"label\",axis=1))"
      ],
      "metadata": {
        "id": "AqHtlZOQCCsA"
      },
      "execution_count": 724,
      "outputs": []
    },
    {
      "cell_type": "code",
      "source": [
        "new_dataset=pd.DataFrame(Scaler_feature,columns=data.columns[:-1])"
      ],
      "metadata": {
        "id": "Y1w-aUEYCinF"
      },
      "execution_count": 725,
      "outputs": []
    },
    {
      "cell_type": "code",
      "source": [
        "new_dataset"
      ],
      "metadata": {
        "colab": {
          "base_uri": "https://localhost:8080/",
          "height": 423
        },
        "id": "xRsqM3BGDHKi",
        "outputId": "35deb7f6-9b4b-49b0-f63a-830ef7d034a3"
      },
      "execution_count": 726,
      "outputs": [
        {
          "output_type": "execute_result",
          "data": {
            "text/plain": [
              "             N         P         K  temperature  humidity        ph  rainfall\n",
              "0     1.067745 -0.344352 -0.101498    -0.935631  0.472962  0.043012  1.809833\n",
              "1     0.932321  0.140891 -0.141002    -0.759654  0.397334  0.734674  2.241519\n",
              "2     0.255197  0.049908 -0.081746    -0.515856  0.487252  1.771448  2.920509\n",
              "3     0.634386 -0.556645 -0.160755     0.172989  0.390087  0.660099  2.536501\n",
              "4     0.742726 -0.344352 -0.121250    -1.083721  0.455084  1.497770  2.897816\n",
              "...        ...       ...       ...          ...       ...       ...       ...\n",
              "2196  1.311510 -1.163198 -0.417533     0.355939 -0.666854 -0.494773  0.444691\n",
              "2197  1.826124 -0.617301 -0.358276    -0.293131 -0.191057 -0.138434  1.270904\n",
              "2198  1.799039 -0.647628 -0.279268     0.129785 -0.869461  0.373658  0.431054\n",
              "2199  1.446935 -1.072215 -0.358276    -0.397601 -0.497897  0.400853  0.681507\n",
              "2200  1.555275 -0.556645 -0.457037    -0.322838 -0.465864  0.649193  1.056245\n",
              "\n",
              "[2201 rows x 7 columns]"
            ],
            "text/html": [
              "\n",
              "  <div id=\"df-b7d3bccb-a05b-4723-bdc2-54721676aba4\">\n",
              "    <div class=\"colab-df-container\">\n",
              "      <div>\n",
              "<style scoped>\n",
              "    .dataframe tbody tr th:only-of-type {\n",
              "        vertical-align: middle;\n",
              "    }\n",
              "\n",
              "    .dataframe tbody tr th {\n",
              "        vertical-align: top;\n",
              "    }\n",
              "\n",
              "    .dataframe thead th {\n",
              "        text-align: right;\n",
              "    }\n",
              "</style>\n",
              "<table border=\"1\" class=\"dataframe\">\n",
              "  <thead>\n",
              "    <tr style=\"text-align: right;\">\n",
              "      <th></th>\n",
              "      <th>N</th>\n",
              "      <th>P</th>\n",
              "      <th>K</th>\n",
              "      <th>temperature</th>\n",
              "      <th>humidity</th>\n",
              "      <th>ph</th>\n",
              "      <th>rainfall</th>\n",
              "    </tr>\n",
              "  </thead>\n",
              "  <tbody>\n",
              "    <tr>\n",
              "      <th>0</th>\n",
              "      <td>1.067745</td>\n",
              "      <td>-0.344352</td>\n",
              "      <td>-0.101498</td>\n",
              "      <td>-0.935631</td>\n",
              "      <td>0.472962</td>\n",
              "      <td>0.043012</td>\n",
              "      <td>1.809833</td>\n",
              "    </tr>\n",
              "    <tr>\n",
              "      <th>1</th>\n",
              "      <td>0.932321</td>\n",
              "      <td>0.140891</td>\n",
              "      <td>-0.141002</td>\n",
              "      <td>-0.759654</td>\n",
              "      <td>0.397334</td>\n",
              "      <td>0.734674</td>\n",
              "      <td>2.241519</td>\n",
              "    </tr>\n",
              "    <tr>\n",
              "      <th>2</th>\n",
              "      <td>0.255197</td>\n",
              "      <td>0.049908</td>\n",
              "      <td>-0.081746</td>\n",
              "      <td>-0.515856</td>\n",
              "      <td>0.487252</td>\n",
              "      <td>1.771448</td>\n",
              "      <td>2.920509</td>\n",
              "    </tr>\n",
              "    <tr>\n",
              "      <th>3</th>\n",
              "      <td>0.634386</td>\n",
              "      <td>-0.556645</td>\n",
              "      <td>-0.160755</td>\n",
              "      <td>0.172989</td>\n",
              "      <td>0.390087</td>\n",
              "      <td>0.660099</td>\n",
              "      <td>2.536501</td>\n",
              "    </tr>\n",
              "    <tr>\n",
              "      <th>4</th>\n",
              "      <td>0.742726</td>\n",
              "      <td>-0.344352</td>\n",
              "      <td>-0.121250</td>\n",
              "      <td>-1.083721</td>\n",
              "      <td>0.455084</td>\n",
              "      <td>1.497770</td>\n",
              "      <td>2.897816</td>\n",
              "    </tr>\n",
              "    <tr>\n",
              "      <th>...</th>\n",
              "      <td>...</td>\n",
              "      <td>...</td>\n",
              "      <td>...</td>\n",
              "      <td>...</td>\n",
              "      <td>...</td>\n",
              "      <td>...</td>\n",
              "      <td>...</td>\n",
              "    </tr>\n",
              "    <tr>\n",
              "      <th>2196</th>\n",
              "      <td>1.311510</td>\n",
              "      <td>-1.163198</td>\n",
              "      <td>-0.417533</td>\n",
              "      <td>0.355939</td>\n",
              "      <td>-0.666854</td>\n",
              "      <td>-0.494773</td>\n",
              "      <td>0.444691</td>\n",
              "    </tr>\n",
              "    <tr>\n",
              "      <th>2197</th>\n",
              "      <td>1.826124</td>\n",
              "      <td>-0.617301</td>\n",
              "      <td>-0.358276</td>\n",
              "      <td>-0.293131</td>\n",
              "      <td>-0.191057</td>\n",
              "      <td>-0.138434</td>\n",
              "      <td>1.270904</td>\n",
              "    </tr>\n",
              "    <tr>\n",
              "      <th>2198</th>\n",
              "      <td>1.799039</td>\n",
              "      <td>-0.647628</td>\n",
              "      <td>-0.279268</td>\n",
              "      <td>0.129785</td>\n",
              "      <td>-0.869461</td>\n",
              "      <td>0.373658</td>\n",
              "      <td>0.431054</td>\n",
              "    </tr>\n",
              "    <tr>\n",
              "      <th>2199</th>\n",
              "      <td>1.446935</td>\n",
              "      <td>-1.072215</td>\n",
              "      <td>-0.358276</td>\n",
              "      <td>-0.397601</td>\n",
              "      <td>-0.497897</td>\n",
              "      <td>0.400853</td>\n",
              "      <td>0.681507</td>\n",
              "    </tr>\n",
              "    <tr>\n",
              "      <th>2200</th>\n",
              "      <td>1.555275</td>\n",
              "      <td>-0.556645</td>\n",
              "      <td>-0.457037</td>\n",
              "      <td>-0.322838</td>\n",
              "      <td>-0.465864</td>\n",
              "      <td>0.649193</td>\n",
              "      <td>1.056245</td>\n",
              "    </tr>\n",
              "  </tbody>\n",
              "</table>\n",
              "<p>2201 rows × 7 columns</p>\n",
              "</div>\n",
              "      <button class=\"colab-df-convert\" onclick=\"convertToInteractive('df-b7d3bccb-a05b-4723-bdc2-54721676aba4')\"\n",
              "              title=\"Convert this dataframe to an interactive table.\"\n",
              "              style=\"display:none;\">\n",
              "        \n",
              "  <svg xmlns=\"http://www.w3.org/2000/svg\" height=\"24px\"viewBox=\"0 0 24 24\"\n",
              "       width=\"24px\">\n",
              "    <path d=\"M0 0h24v24H0V0z\" fill=\"none\"/>\n",
              "    <path d=\"M18.56 5.44l.94 2.06.94-2.06 2.06-.94-2.06-.94-.94-2.06-.94 2.06-2.06.94zm-11 1L8.5 8.5l.94-2.06 2.06-.94-2.06-.94L8.5 2.5l-.94 2.06-2.06.94zm10 10l.94 2.06.94-2.06 2.06-.94-2.06-.94-.94-2.06-.94 2.06-2.06.94z\"/><path d=\"M17.41 7.96l-1.37-1.37c-.4-.4-.92-.59-1.43-.59-.52 0-1.04.2-1.43.59L10.3 9.45l-7.72 7.72c-.78.78-.78 2.05 0 2.83L4 21.41c.39.39.9.59 1.41.59.51 0 1.02-.2 1.41-.59l7.78-7.78 2.81-2.81c.8-.78.8-2.07 0-2.86zM5.41 20L4 18.59l7.72-7.72 1.47 1.35L5.41 20z\"/>\n",
              "  </svg>\n",
              "      </button>\n",
              "      \n",
              "  <style>\n",
              "    .colab-df-container {\n",
              "      display:flex;\n",
              "      flex-wrap:wrap;\n",
              "      gap: 12px;\n",
              "    }\n",
              "\n",
              "    .colab-df-convert {\n",
              "      background-color: #E8F0FE;\n",
              "      border: none;\n",
              "      border-radius: 50%;\n",
              "      cursor: pointer;\n",
              "      display: none;\n",
              "      fill: #1967D2;\n",
              "      height: 32px;\n",
              "      padding: 0 0 0 0;\n",
              "      width: 32px;\n",
              "    }\n",
              "\n",
              "    .colab-df-convert:hover {\n",
              "      background-color: #E2EBFA;\n",
              "      box-shadow: 0px 1px 2px rgba(60, 64, 67, 0.3), 0px 1px 3px 1px rgba(60, 64, 67, 0.15);\n",
              "      fill: #174EA6;\n",
              "    }\n",
              "\n",
              "    [theme=dark] .colab-df-convert {\n",
              "      background-color: #3B4455;\n",
              "      fill: #D2E3FC;\n",
              "    }\n",
              "\n",
              "    [theme=dark] .colab-df-convert:hover {\n",
              "      background-color: #434B5C;\n",
              "      box-shadow: 0px 1px 3px 1px rgba(0, 0, 0, 0.15);\n",
              "      filter: drop-shadow(0px 1px 2px rgba(0, 0, 0, 0.3));\n",
              "      fill: #FFFFFF;\n",
              "    }\n",
              "  </style>\n",
              "\n",
              "      <script>\n",
              "        const buttonEl =\n",
              "          document.querySelector('#df-b7d3bccb-a05b-4723-bdc2-54721676aba4 button.colab-df-convert');\n",
              "        buttonEl.style.display =\n",
              "          google.colab.kernel.accessAllowed ? 'block' : 'none';\n",
              "\n",
              "        async function convertToInteractive(key) {\n",
              "          const element = document.querySelector('#df-b7d3bccb-a05b-4723-bdc2-54721676aba4');\n",
              "          const dataTable =\n",
              "            await google.colab.kernel.invokeFunction('convertToInteractive',\n",
              "                                                     [key], {});\n",
              "          if (!dataTable) return;\n",
              "\n",
              "          const docLinkHtml = 'Like what you see? Visit the ' +\n",
              "            '<a target=\"_blank\" href=https://colab.research.google.com/notebooks/data_table.ipynb>data table notebook</a>'\n",
              "            + ' to learn more about interactive tables.';\n",
              "          element.innerHTML = '';\n",
              "          dataTable['output_type'] = 'display_data';\n",
              "          await google.colab.output.renderOutput(dataTable, element);\n",
              "          const docLink = document.createElement('div');\n",
              "          docLink.innerHTML = docLinkHtml;\n",
              "          element.appendChild(docLink);\n",
              "        }\n",
              "      </script>\n",
              "    </div>\n",
              "  </div>\n",
              "  "
            ]
          },
          "metadata": {},
          "execution_count": 726
        }
      ]
    },
    {
      "cell_type": "code",
      "source": [
        "predict = new_dataset[-1:]\n",
        "print(predict)"
      ],
      "metadata": {
        "colab": {
          "base_uri": "https://localhost:8080/"
        },
        "id": "VUZm4GxwxlUO",
        "outputId": "a5e6342b-ffbd-4780-a922-0e381d712d63"
      },
      "execution_count": 727,
      "outputs": [
        {
          "output_type": "stream",
          "name": "stdout",
          "text": [
            "             N         P         K  temperature  humidity        ph  rainfall\n",
            "2200  1.555275 -0.556645 -0.457037    -0.322838 -0.465864  0.649193  1.056245\n"
          ]
        }
      ]
    },
    {
      "cell_type": "code",
      "source": [
        "from sklearn.model_selection import train_test_split\n"
      ],
      "metadata": {
        "id": "Lg3xVU9hDKPt"
      },
      "execution_count": 728,
      "outputs": []
    },
    {
      "cell_type": "code",
      "source": [
        "x = new_dataset[:-1]\n",
        "y = dataset['label']\n",
        "xtrain,xtest,ytrain,ytest = train_test_split(x,y,random_state=42,test_size=0.4)"
      ],
      "metadata": {
        "id": "SdzoIcaFDsxD"
      },
      "execution_count": 729,
      "outputs": []
    },
    {
      "cell_type": "code",
      "source": [
        "y.shape"
      ],
      "metadata": {
        "colab": {
          "base_uri": "https://localhost:8080/"
        },
        "id": "LaFY769aHxCK",
        "outputId": "3f137202-5394-4524-928d-1f8d627a77fd"
      },
      "execution_count": 730,
      "outputs": [
        {
          "output_type": "execute_result",
          "data": {
            "text/plain": [
              "(2200,)"
            ]
          },
          "metadata": {},
          "execution_count": 730
        }
      ]
    },
    {
      "cell_type": "code",
      "source": [
        "x.shape"
      ],
      "metadata": {
        "colab": {
          "base_uri": "https://localhost:8080/"
        },
        "id": "v9FMtYPcIC2d",
        "outputId": "3e2a1b2e-b19d-4e2c-9800-45d7fc212bde"
      },
      "execution_count": 731,
      "outputs": [
        {
          "output_type": "execute_result",
          "data": {
            "text/plain": [
              "(2200, 7)"
            ]
          },
          "metadata": {},
          "execution_count": 731
        }
      ]
    },
    {
      "cell_type": "markdown",
      "source": [
        "KNN and naive"
      ],
      "metadata": {
        "id": "hI453iM1_8v_"
      }
    },
    {
      "cell_type": "code",
      "source": [
        "from sklearn.neighbors import KNeighborsClassifier\n",
        "from sklearn.naive_bayes import GaussianNB,BernoulliNB\n",
        "knn = KNeighborsClassifier(n_neighbors=47)\n",
        "gnb = GaussianNB()\n",
        "bnb = BernoulliNB()\n",
        "\n",
        "knn.fit(xtrain,ytrain)"
      ],
      "metadata": {
        "colab": {
          "base_uri": "https://localhost:8080/"
        },
        "id": "t6aRjf_ZEd_e",
        "outputId": "ae5ccb2f-4a39-45d7-f154-2b35b78ffde7"
      },
      "execution_count": 732,
      "outputs": [
        {
          "output_type": "execute_result",
          "data": {
            "text/plain": [
              "KNeighborsClassifier(n_neighbors=47)"
            ]
          },
          "metadata": {},
          "execution_count": 732
        }
      ]
    },
    {
      "cell_type": "code",
      "source": [
        "gnb.fit(xtrain,ytrain)\n",
        "bnb.fit(xtrain,ytrain)\n"
      ],
      "metadata": {
        "colab": {
          "base_uri": "https://localhost:8080/"
        },
        "id": "d5Ip-sowN6KC",
        "outputId": "68d7c81a-d23b-4740-dab3-c29fd5330ecd"
      },
      "execution_count": 733,
      "outputs": [
        {
          "output_type": "execute_result",
          "data": {
            "text/plain": [
              "BernoulliNB()"
            ]
          },
          "metadata": {},
          "execution_count": 733
        }
      ]
    },
    {
      "cell_type": "code",
      "source": [
        "ypred = knn.predict(xtest)"
      ],
      "metadata": {
        "id": "qXtp58EGJOC5"
      },
      "execution_count": 734,
      "outputs": []
    },
    {
      "cell_type": "code",
      "source": [
        "gpred=gnb.predict(xtest)\n",
        "bpred=bnb.predict(xtest)"
      ],
      "metadata": {
        "id": "ycG702pUNiL3"
      },
      "execution_count": 735,
      "outputs": []
    },
    {
      "cell_type": "code",
      "source": [
        "from sklearn.metrics import classification_report,confusion_matrix"
      ],
      "metadata": {
        "id": "h7WzrhCPJkSJ"
      },
      "execution_count": 736,
      "outputs": []
    },
    {
      "cell_type": "code",
      "source": [
        "from sklearn.metrics import accuracy_score"
      ],
      "metadata": {
        "id": "WFVvPIWwZpPW"
      },
      "execution_count": 737,
      "outputs": []
    },
    {
      "cell_type": "code",
      "source": [
        "# KNN accuracy\n",
        "print(confusion_matrix(ytest,ypred))\n",
        "print(classification_report(ytest,ypred))"
      ],
      "metadata": {
        "colab": {
          "base_uri": "https://localhost:8080/"
        },
        "id": "uQQu2498Jlk_",
        "outputId": "4b03caa6-e0ab-4833-d5d2-031bfda0e82d"
      },
      "execution_count": 738,
      "outputs": [
        {
          "output_type": "stream",
          "name": "stdout",
          "text": [
            "[[48  0  0  0  0  0  0  0  0  0  0  0  0  0  0  0  0  0  0  0  0  0]\n",
            " [ 0 36  0  0  0  0  0  0  0  0  0  0  0  0  0  0  0  0  0  0  0  0]\n",
            " [ 0  0 36  0  0  0  0  0  0  0  1  0  0  0  0  0  0  0  0  0  0  0]\n",
            " [ 0  0  0 44  0  0  0  0  0  3  0  0  0  0  0  0  0  0  0  0  0  0]\n",
            " [ 0  0  0  0 43  0  0  0  0  0  0  0  0  0  0  0  0  0  0  0  0  0]\n",
            " [ 0  0  0  0  0 39  0  0  0  0  0  0  0  0  0  0  0  0  0  0  0  0]\n",
            " [ 0  0  0  0  0  0 40  0  0  0  0  0  0  0  0  0  0  0  0  0  0  0]\n",
            " [12  0  0  0  0  0  0 24  0  0  0  0  0  0  0  0  0  0  0  0  0  0]\n",
            " [ 0  0  0  0  0  0  0  0 43  0  0  0  0  0  0  0  0  0  0  0  0  0]\n",
            " [ 0  0  0  0  0  0  0  0  0 45  0  0  0  0  0  0  0  0  0  0  0  0]\n",
            " [ 0  0  5  0  0  0  0  0  0  0 30  0  0  0  2  0  0  0  0  0  0  0]\n",
            " [ 0  0  0  0  0  0  2  0  0  0  0 35  0  0  0  0  0  0  0  0  0  0]\n",
            " [ 0  0  1  0  0  0  0  0  0  0  0  0 40  0  0  0  0  0  0  0  0  0]\n",
            " [ 0  0  4  0  0  0  0  0  0  0  9  0 18 16  0  0  0  0  0  0  0  0]\n",
            " [ 0  0  0  0  0  0  0  0  0  0  0  0  0  0 37  0  0  0  0  0  0  0]\n",
            " [ 0  0  0  0  0  0  0  0  0  0  0  0  0  0  0 35  0  0  0  0  0  0]\n",
            " [ 0  0  0  0  2  0  0  0  0  0  0  0  0  0  0  0 21  0  0 12  0  0]\n",
            " [ 0  0  0  0  0  0  0  0  4  0  0  0  0  0  6  0  0 27  0  0  3  0]\n",
            " [ 0  0  8  0  0  0  0  0  1  7  3  0  9  0  0  0  0  0 18  0  0  0]\n",
            " [ 0  0  0  0  0  0  0  0  0  0  0  0  0  0  0  0  0  0  0 44  0  0]\n",
            " [ 0  0  0  0  0  0  0  0 12  0  0  0  0  0  0  0  0  0  0  0 21  0]\n",
            " [ 0  0  0  0  0  0  0  0  0  0  0  0  0  0  0  0  0  0  0  0  0 34]]\n",
            "              precision    recall  f1-score   support\n",
            "\n",
            "       apple       0.80      1.00      0.89        48\n",
            "      banana       1.00      1.00      1.00        36\n",
            "   blackgram       0.67      0.97      0.79        37\n",
            "    chickpea       1.00      0.94      0.97        47\n",
            "     coconut       0.96      1.00      0.98        43\n",
            "      coffee       1.00      1.00      1.00        39\n",
            "      cotton       0.95      1.00      0.98        40\n",
            "      grapes       1.00      0.67      0.80        36\n",
            "        jute       0.72      1.00      0.83        43\n",
            " kidneybeans       0.82      1.00      0.90        45\n",
            "      lentil       0.70      0.81      0.75        37\n",
            "       maize       1.00      0.95      0.97        37\n",
            "       mango       0.60      0.98      0.74        41\n",
            "   mothbeans       1.00      0.34      0.51        47\n",
            "    mungbean       0.82      1.00      0.90        37\n",
            "   muskmelon       1.00      1.00      1.00        35\n",
            "      orange       1.00      0.60      0.75        35\n",
            "      papaya       1.00      0.68      0.81        40\n",
            "  pigeonpeas       1.00      0.39      0.56        46\n",
            " pomegranate       0.79      1.00      0.88        44\n",
            "        rice       0.88      0.64      0.74        33\n",
            "  watermelon       1.00      1.00      1.00        34\n",
            "\n",
            "    accuracy                           0.86       880\n",
            "   macro avg       0.89      0.86      0.85       880\n",
            "weighted avg       0.89      0.86      0.85       880\n",
            "\n"
          ]
        }
      ]
    },
    {
      "cell_type": "code",
      "source": [
        "\n",
        "print(\"Test data accuracy:\",accuracy_score( ytest,ypred))"
      ],
      "metadata": {
        "colab": {
          "base_uri": "https://localhost:8080/"
        },
        "id": "0vLjJLPMZ3Ny",
        "outputId": "7b92f50b-93bb-4d74-b2ac-598b2e5282c0"
      },
      "execution_count": 739,
      "outputs": [
        {
          "output_type": "stream",
          "name": "stdout",
          "text": [
            "Test data accuracy: 0.8590909090909091\n"
          ]
        }
      ]
    },
    {
      "cell_type": "code",
      "source": [
        "#guassian accuracy score\n",
        "print(confusion_matrix(ytest,gpred))\n",
        "print(classification_report(ytest,gpred))"
      ],
      "metadata": {
        "colab": {
          "base_uri": "https://localhost:8080/"
        },
        "id": "dVasjrhqOPZr",
        "outputId": "cfca0071-a07a-4e27-a5a8-fa777c47e987"
      },
      "execution_count": 740,
      "outputs": [
        {
          "output_type": "stream",
          "name": "stdout",
          "text": [
            "[[48  0  0  0  0  0  0  0  0  0  0  0  0  0  0  0  0  0  0  0  0  0]\n",
            " [ 0 36  0  0  0  0  0  0  0  0  0  0  0  0  0  0  0  0  0  0  0  0]\n",
            " [ 0  0 37  0  0  0  0  0  0  0  0  0  0  0  0  0  0  0  0  0  0  0]\n",
            " [ 0  0  0 47  0  0  0  0  0  0  0  0  0  0  0  0  0  0  0  0  0  0]\n",
            " [ 0  0  0  0 43  0  0  0  0  0  0  0  0  0  0  0  0  0  0  0  0  0]\n",
            " [ 0  0  0  0  0 39  0  0  0  0  0  0  0  0  0  0  0  0  0  0  0  0]\n",
            " [ 0  0  0  0  0  0 40  0  0  0  0  0  0  0  0  0  0  0  0  0  0  0]\n",
            " [ 0  0  0  0  0  0  0 36  0  0  0  0  0  0  0  0  0  0  0  0  0  0]\n",
            " [ 0  0  0  0  0  0  0  0 41  0  0  0  0  0  0  0  0  0  0  0  2  0]\n",
            " [ 0  0  0  0  0  0  0  0  0 45  0  0  0  0  0  0  0  0  0  0  0  0]\n",
            " [ 0  0  0  0  0  0  0  0  0  0 37  0  0  0  0  0  0  0  0  0  0  0]\n",
            " [ 0  0  0  0  0  0  0  0  0  0  0 37  0  0  0  0  0  0  0  0  0  0]\n",
            " [ 0  0  0  0  0  0  0  0  0  0  0  0 41  0  0  0  0  0  0  0  0  0]\n",
            " [ 0  0  0  0  0  0  0  0  0  0  0  0  0 47  0  0  0  0  0  0  0  0]\n",
            " [ 0  0  0  0  0  0  0  0  0  0  0  0  0  0 37  0  0  0  0  0  0  0]\n",
            " [ 0  0  0  0  0  0  0  0  0  0  0  0  0  0  0 35  0  0  0  0  0  0]\n",
            " [ 0  0  0  0  0  0  0  0  0  0  0  0  0  0  0  0 35  0  0  0  0  0]\n",
            " [ 0  0  0  0  0  0  0  0  0  0  0  0  0  0  0  0  0 40  0  0  0  0]\n",
            " [ 0  0  0  0  0  0  0  0  0  0  0  0  0  0  0  0  0  0 46  0  0  0]\n",
            " [ 0  0  0  0  0  0  0  0  0  0  0  0  0  0  0  0  0  0  0 44  0  0]\n",
            " [ 0  0  0  0  0  0  0  0  4  0  0  0  0  0  0  0  0  0  0  0 29  0]\n",
            " [ 0  0  0  0  0  0  0  0  0  0  0  0  0  0  0  0  0  0  0  0  0 34]]\n",
            "              precision    recall  f1-score   support\n",
            "\n",
            "       apple       1.00      1.00      1.00        48\n",
            "      banana       1.00      1.00      1.00        36\n",
            "   blackgram       1.00      1.00      1.00        37\n",
            "    chickpea       1.00      1.00      1.00        47\n",
            "     coconut       1.00      1.00      1.00        43\n",
            "      coffee       1.00      1.00      1.00        39\n",
            "      cotton       1.00      1.00      1.00        40\n",
            "      grapes       1.00      1.00      1.00        36\n",
            "        jute       0.91      0.95      0.93        43\n",
            " kidneybeans       1.00      1.00      1.00        45\n",
            "      lentil       1.00      1.00      1.00        37\n",
            "       maize       1.00      1.00      1.00        37\n",
            "       mango       1.00      1.00      1.00        41\n",
            "   mothbeans       1.00      1.00      1.00        47\n",
            "    mungbean       1.00      1.00      1.00        37\n",
            "   muskmelon       1.00      1.00      1.00        35\n",
            "      orange       1.00      1.00      1.00        35\n",
            "      papaya       1.00      1.00      1.00        40\n",
            "  pigeonpeas       1.00      1.00      1.00        46\n",
            " pomegranate       1.00      1.00      1.00        44\n",
            "        rice       0.94      0.88      0.91        33\n",
            "  watermelon       1.00      1.00      1.00        34\n",
            "\n",
            "    accuracy                           0.99       880\n",
            "   macro avg       0.99      0.99      0.99       880\n",
            "weighted avg       0.99      0.99      0.99       880\n",
            "\n"
          ]
        }
      ]
    },
    {
      "cell_type": "code",
      "source": [
        "print(\"Test data accuracy:\",accuracy_score( ytest,gpred))"
      ],
      "metadata": {
        "colab": {
          "base_uri": "https://localhost:8080/"
        },
        "id": "KOE5R16Wat1n",
        "outputId": "1e62e4be-193a-4d69-8122-0f89629cdf88"
      },
      "execution_count": 741,
      "outputs": [
        {
          "output_type": "stream",
          "name": "stdout",
          "text": [
            "Test data accuracy: 0.9931818181818182\n"
          ]
        }
      ]
    },
    {
      "cell_type": "code",
      "source": [
        "# bernoulli\n",
        "print(confusion_matrix(ytest,bpred))\n",
        "print(classification_report(ytest,bpred))"
      ],
      "metadata": {
        "colab": {
          "base_uri": "https://localhost:8080/"
        },
        "id": "3FALlkKyOahh",
        "outputId": "7652d97a-d9b4-487d-95bf-c770c44c53dd"
      },
      "execution_count": 742,
      "outputs": [
        {
          "output_type": "stream",
          "name": "stdout",
          "text": [
            "[[44  0  0  0  0  0  0  4  0  0  0  0  0  0  0  0  0  0  0  0  0  0]\n",
            " [ 0 32  0  0  0  0  2  0  0  0  0  0  0  0  0  0  0  0  0  0  2  0]\n",
            " [ 0  0 34  0  0  0  0  0  0  0  2  1  0  0  0  0  0  0  0  0  0  0]\n",
            " [ 0  0  0 47  0  0  0  0  0  0  0  0  0  0  0  0  0  0  0  0  0  0]\n",
            " [ 0  0  0  0 38  0  0  0  0  0  0  0  0  0  0  0  1  0  0  4  0  0]\n",
            " [ 0  0  0  0  0 39  0  0  0  0  0  0  0  0  0  0  0  0  0  0  0  0]\n",
            " [ 0  0  0  0  0  0 38  0  0  0  0  0  0  0  0  2  0  0  0  0  0  0]\n",
            " [ 0  0  0  0  0  0  0 36  0  0  0  0  0  0  0  0  0  0  0  0  0  0]\n",
            " [ 0  1  0  0  0  3  0  0 15  0  0  0  0  0  0  0  0  3  0  0 21  0]\n",
            " [ 0  0  0  0  0  0  0  0  0 45  0  0  0  0  0  0  0  0  0  0  0  0]\n",
            " [ 0  0 15  0  0  0  0  0  0  4 18  0  0  0  0  0  0  0  0  0  0  0]\n",
            " [ 0  0  1  0  0  1  5  0  1  0  0 26  0  0  0  3  0  0  0  0  0  0]\n",
            " [ 0  0  0  0  0  0  0  0  0  0  0  0 34  7  0  0  0  0  0  0  0  0]\n",
            " [ 0  0  7  0  0  0  0  0  0  1  5  0 16 18  0  0  0  0  0  0  0  0]\n",
            " [ 0  0  0  0  0  0  0  0  0  0  0  0  0  0 37  0  0  0  0  0  0  0]\n",
            " [ 0  0  0  0  0  0  0  0  0  0  0  0  0  0  0 35  0  0  0  0  0  0]\n",
            " [ 0  0  0  0  4  0  0  0  0  0  0  0  0  0  1  0 26  0  0  4  0  0]\n",
            " [ 1  0  0  0  0  0  0  0  1  0  0  0  0  0  2  1  2 33  0  0  0  0]\n",
            " [ 0  0  3  0  0  0  0  0  0 10  5  0  0  0  0  0  0  0 28  0  0  0]\n",
            " [ 0  0  0  0  0  0  0  0  0  0  0  0  0  0  0  0 21  0  0 23  0  0]\n",
            " [ 0  0  0  0  0  0  0  0 13  0  0  0  0  0  0  0  0  2  0  0 18  0]\n",
            " [ 0  0  0  0  0  0  4  0  0  0  0  0  0  0  0 19  0  0  0  0  0 11]]\n",
            "              precision    recall  f1-score   support\n",
            "\n",
            "       apple       0.98      0.92      0.95        48\n",
            "      banana       0.97      0.89      0.93        36\n",
            "   blackgram       0.57      0.92      0.70        37\n",
            "    chickpea       1.00      1.00      1.00        47\n",
            "     coconut       0.90      0.88      0.89        43\n",
            "      coffee       0.91      1.00      0.95        39\n",
            "      cotton       0.78      0.95      0.85        40\n",
            "      grapes       0.90      1.00      0.95        36\n",
            "        jute       0.50      0.35      0.41        43\n",
            " kidneybeans       0.75      1.00      0.86        45\n",
            "      lentil       0.60      0.49      0.54        37\n",
            "       maize       0.96      0.70      0.81        37\n",
            "       mango       0.68      0.83      0.75        41\n",
            "   mothbeans       0.72      0.38      0.50        47\n",
            "    mungbean       0.93      1.00      0.96        37\n",
            "   muskmelon       0.58      1.00      0.74        35\n",
            "      orange       0.52      0.74      0.61        35\n",
            "      papaya       0.87      0.82      0.85        40\n",
            "  pigeonpeas       1.00      0.61      0.76        46\n",
            " pomegranate       0.74      0.52      0.61        44\n",
            "        rice       0.44      0.55      0.49        33\n",
            "  watermelon       1.00      0.32      0.49        34\n",
            "\n",
            "    accuracy                           0.77       880\n",
            "   macro avg       0.79      0.77      0.75       880\n",
            "weighted avg       0.79      0.77      0.76       880\n",
            "\n"
          ]
        }
      ]
    },
    {
      "cell_type": "code",
      "source": [
        "print(\"Test data accuracy:\",accuracy_score( ytest,bpred))"
      ],
      "metadata": {
        "colab": {
          "base_uri": "https://localhost:8080/"
        },
        "id": "Qxvw6vv1az1S",
        "outputId": "3339b3e6-0fe8-463b-8f18-d80c99414ff0"
      },
      "execution_count": 743,
      "outputs": [
        {
          "output_type": "stream",
          "name": "stdout",
          "text": [
            "Test data accuracy: 0.7670454545454546\n"
          ]
        }
      ]
    },
    {
      "cell_type": "code",
      "source": [
        "xtest.head(1)"
      ],
      "metadata": {
        "colab": {
          "base_uri": "https://localhost:8080/",
          "height": 80
        },
        "id": "f2tX0zvEYoWQ",
        "outputId": "432c35e7-20b7-49c1-8bd3-a0df424c89a5"
      },
      "execution_count": 744,
      "outputs": [
        {
          "output_type": "execute_result",
          "data": {
            "text/plain": [
              "            N         P         K  temperature  humidity        ph  rainfall\n",
              "1451  1.36568 -1.102543 -0.022489     0.766267  1.044842 -0.367933 -1.404651"
            ],
            "text/html": [
              "\n",
              "  <div id=\"df-7c2014a6-6c21-4083-9160-3c7860a89a23\">\n",
              "    <div class=\"colab-df-container\">\n",
              "      <div>\n",
              "<style scoped>\n",
              "    .dataframe tbody tr th:only-of-type {\n",
              "        vertical-align: middle;\n",
              "    }\n",
              "\n",
              "    .dataframe tbody tr th {\n",
              "        vertical-align: top;\n",
              "    }\n",
              "\n",
              "    .dataframe thead th {\n",
              "        text-align: right;\n",
              "    }\n",
              "</style>\n",
              "<table border=\"1\" class=\"dataframe\">\n",
              "  <thead>\n",
              "    <tr style=\"text-align: right;\">\n",
              "      <th></th>\n",
              "      <th>N</th>\n",
              "      <th>P</th>\n",
              "      <th>K</th>\n",
              "      <th>temperature</th>\n",
              "      <th>humidity</th>\n",
              "      <th>ph</th>\n",
              "      <th>rainfall</th>\n",
              "    </tr>\n",
              "  </thead>\n",
              "  <tbody>\n",
              "    <tr>\n",
              "      <th>1451</th>\n",
              "      <td>1.36568</td>\n",
              "      <td>-1.102543</td>\n",
              "      <td>-0.022489</td>\n",
              "      <td>0.766267</td>\n",
              "      <td>1.044842</td>\n",
              "      <td>-0.367933</td>\n",
              "      <td>-1.404651</td>\n",
              "    </tr>\n",
              "  </tbody>\n",
              "</table>\n",
              "</div>\n",
              "      <button class=\"colab-df-convert\" onclick=\"convertToInteractive('df-7c2014a6-6c21-4083-9160-3c7860a89a23')\"\n",
              "              title=\"Convert this dataframe to an interactive table.\"\n",
              "              style=\"display:none;\">\n",
              "        \n",
              "  <svg xmlns=\"http://www.w3.org/2000/svg\" height=\"24px\"viewBox=\"0 0 24 24\"\n",
              "       width=\"24px\">\n",
              "    <path d=\"M0 0h24v24H0V0z\" fill=\"none\"/>\n",
              "    <path d=\"M18.56 5.44l.94 2.06.94-2.06 2.06-.94-2.06-.94-.94-2.06-.94 2.06-2.06.94zm-11 1L8.5 8.5l.94-2.06 2.06-.94-2.06-.94L8.5 2.5l-.94 2.06-2.06.94zm10 10l.94 2.06.94-2.06 2.06-.94-2.06-.94-.94-2.06-.94 2.06-2.06.94z\"/><path d=\"M17.41 7.96l-1.37-1.37c-.4-.4-.92-.59-1.43-.59-.52 0-1.04.2-1.43.59L10.3 9.45l-7.72 7.72c-.78.78-.78 2.05 0 2.83L4 21.41c.39.39.9.59 1.41.59.51 0 1.02-.2 1.41-.59l7.78-7.78 2.81-2.81c.8-.78.8-2.07 0-2.86zM5.41 20L4 18.59l7.72-7.72 1.47 1.35L5.41 20z\"/>\n",
              "  </svg>\n",
              "      </button>\n",
              "      \n",
              "  <style>\n",
              "    .colab-df-container {\n",
              "      display:flex;\n",
              "      flex-wrap:wrap;\n",
              "      gap: 12px;\n",
              "    }\n",
              "\n",
              "    .colab-df-convert {\n",
              "      background-color: #E8F0FE;\n",
              "      border: none;\n",
              "      border-radius: 50%;\n",
              "      cursor: pointer;\n",
              "      display: none;\n",
              "      fill: #1967D2;\n",
              "      height: 32px;\n",
              "      padding: 0 0 0 0;\n",
              "      width: 32px;\n",
              "    }\n",
              "\n",
              "    .colab-df-convert:hover {\n",
              "      background-color: #E2EBFA;\n",
              "      box-shadow: 0px 1px 2px rgba(60, 64, 67, 0.3), 0px 1px 3px 1px rgba(60, 64, 67, 0.15);\n",
              "      fill: #174EA6;\n",
              "    }\n",
              "\n",
              "    [theme=dark] .colab-df-convert {\n",
              "      background-color: #3B4455;\n",
              "      fill: #D2E3FC;\n",
              "    }\n",
              "\n",
              "    [theme=dark] .colab-df-convert:hover {\n",
              "      background-color: #434B5C;\n",
              "      box-shadow: 0px 1px 3px 1px rgba(0, 0, 0, 0.15);\n",
              "      filter: drop-shadow(0px 1px 2px rgba(0, 0, 0, 0.3));\n",
              "      fill: #FFFFFF;\n",
              "    }\n",
              "  </style>\n",
              "\n",
              "      <script>\n",
              "        const buttonEl =\n",
              "          document.querySelector('#df-7c2014a6-6c21-4083-9160-3c7860a89a23 button.colab-df-convert');\n",
              "        buttonEl.style.display =\n",
              "          google.colab.kernel.accessAllowed ? 'block' : 'none';\n",
              "\n",
              "        async function convertToInteractive(key) {\n",
              "          const element = document.querySelector('#df-7c2014a6-6c21-4083-9160-3c7860a89a23');\n",
              "          const dataTable =\n",
              "            await google.colab.kernel.invokeFunction('convertToInteractive',\n",
              "                                                     [key], {});\n",
              "          if (!dataTable) return;\n",
              "\n",
              "          const docLinkHtml = 'Like what you see? Visit the ' +\n",
              "            '<a target=\"_blank\" href=https://colab.research.google.com/notebooks/data_table.ipynb>data table notebook</a>'\n",
              "            + ' to learn more about interactive tables.';\n",
              "          element.innerHTML = '';\n",
              "          dataTable['output_type'] = 'display_data';\n",
              "          await google.colab.output.renderOutput(dataTable, element);\n",
              "          const docLink = document.createElement('div');\n",
              "          docLink.innerHTML = docLinkHtml;\n",
              "          element.appendChild(docLink);\n",
              "        }\n",
              "      </script>\n",
              "    </div>\n",
              "  </div>\n",
              "  "
            ]
          },
          "metadata": {},
          "execution_count": 744
        }
      ]
    },
    {
      "cell_type": "code",
      "source": [
        "ytest.head(1)"
      ],
      "metadata": {
        "colab": {
          "base_uri": "https://localhost:8080/"
        },
        "id": "oLuVpuO4ZI3O",
        "outputId": "b25bc9cc-d561-416b-e929-7cab4339ec57"
      },
      "execution_count": 745,
      "outputs": [
        {
          "output_type": "execute_result",
          "data": {
            "text/plain": [
              "1451    muskmelon\n",
              "Name: label, dtype: object"
            ]
          },
          "metadata": {},
          "execution_count": 745
        }
      ]
    },
    {
      "cell_type": "code",
      "source": [
        "knn.predict([[1.366828,-1.102623,0.022693,0.765964,1.044445,0.36759,-1.404208]])"
      ],
      "metadata": {
        "colab": {
          "base_uri": "https://localhost:8080/"
        },
        "id": "U1xLLmZfYySy",
        "outputId": "f30992fe-3821-4083-fbaf-bfea189e28e6"
      },
      "execution_count": 746,
      "outputs": [
        {
          "output_type": "stream",
          "name": "stderr",
          "text": [
            "/usr/local/lib/python3.8/dist-packages/sklearn/base.py:450: UserWarning: X does not have valid feature names, but KNeighborsClassifier was fitted with feature names\n",
            "  warnings.warn(\n"
          ]
        },
        {
          "output_type": "execute_result",
          "data": {
            "text/plain": [
              "array(['muskmelon'], dtype=object)"
            ]
          },
          "metadata": {},
          "execution_count": 746
        }
      ]
    },
    {
      "cell_type": "code",
      "source": [
        "gnb.predict([[1.366828,-1.102623,0.022693,0.765964,1.044445,0.36759,-1.404208]])"
      ],
      "metadata": {
        "colab": {
          "base_uri": "https://localhost:8080/"
        },
        "id": "GVPIQGxBZ1mD",
        "outputId": "f936e16d-0553-4e24-d0f6-0a1eee5f65e6"
      },
      "execution_count": 747,
      "outputs": [
        {
          "output_type": "stream",
          "name": "stderr",
          "text": [
            "/usr/local/lib/python3.8/dist-packages/sklearn/base.py:450: UserWarning: X does not have valid feature names, but GaussianNB was fitted with feature names\n",
            "  warnings.warn(\n"
          ]
        },
        {
          "output_type": "execute_result",
          "data": {
            "text/plain": [
              "array(['muskmelon'], dtype='<U11')"
            ]
          },
          "metadata": {},
          "execution_count": 747
        }
      ]
    },
    {
      "cell_type": "code",
      "source": [
        "bnb.predict([[1.366828,-1.102623,0.022693,0.765964,1.044445,0.36759,-1.404208]])"
      ],
      "metadata": {
        "id": "N84SE137Z5RU",
        "outputId": "71f1fae2-d761-4aa8-da4d-269e2724a38a",
        "colab": {
          "base_uri": "https://localhost:8080/"
        }
      },
      "execution_count": 748,
      "outputs": [
        {
          "output_type": "stream",
          "name": "stderr",
          "text": [
            "/usr/local/lib/python3.8/dist-packages/sklearn/base.py:450: UserWarning: X does not have valid feature names, but BernoulliNB was fitted with feature names\n",
            "  warnings.warn(\n"
          ]
        },
        {
          "output_type": "execute_result",
          "data": {
            "text/plain": [
              "array(['muskmelon'], dtype='<U11')"
            ]
          },
          "metadata": {},
          "execution_count": 748
        }
      ]
    },
    {
      "cell_type": "code",
      "source": [
        "yprednew = knn.predict(predict)\n"
      ],
      "metadata": {
        "id": "AclXDHr3MKbz"
      },
      "execution_count": 749,
      "outputs": []
    },
    {
      "cell_type": "code",
      "source": [
        "#Prediction of KNN\n",
        "print(yprednew)"
      ],
      "metadata": {
        "colab": {
          "base_uri": "https://localhost:8080/"
        },
        "id": "6y1QV2NPMTzm",
        "outputId": "90ef4afc-2876-46fd-ae0a-8ca9664ceb9f"
      },
      "execution_count": 750,
      "outputs": [
        {
          "output_type": "stream",
          "name": "stdout",
          "text": [
            "['coffee']\n"
          ]
        }
      ]
    },
    {
      "cell_type": "code",
      "source": [
        "bprednew = bnb.predict(predict)"
      ],
      "metadata": {
        "id": "9Ys2tUyHOhCJ"
      },
      "execution_count": 751,
      "outputs": []
    },
    {
      "cell_type": "code",
      "source": [
        "gprednew = gnb.predict(predict)"
      ],
      "metadata": {
        "id": "8dzHPRZvOovk"
      },
      "execution_count": 752,
      "outputs": []
    },
    {
      "cell_type": "code",
      "source": [
        "#Prediction of GNB\n",
        "print(gprednew)"
      ],
      "metadata": {
        "colab": {
          "base_uri": "https://localhost:8080/"
        },
        "id": "f4oMKbrGOuY6",
        "outputId": "d598e3bb-5085-488b-80f9-886e19aabaf5"
      },
      "execution_count": 753,
      "outputs": [
        {
          "output_type": "stream",
          "name": "stdout",
          "text": [
            "['coffee']\n"
          ]
        }
      ]
    },
    {
      "cell_type": "code",
      "source": [
        "#Prediction of BNB\n",
        "print(bprednew)"
      ],
      "metadata": {
        "colab": {
          "base_uri": "https://localhost:8080/"
        },
        "id": "8RDUMmguO27B",
        "outputId": "85e59169-86c5-4693-ea5a-225a4fc0cd5a"
      },
      "execution_count": 754,
      "outputs": [
        {
          "output_type": "stream",
          "name": "stdout",
          "text": [
            "['coffee']\n"
          ]
        }
      ]
    },
    {
      "cell_type": "markdown",
      "source": [
        "Decision Tree"
      ],
      "metadata": {
        "id": "eBoHBJDHN4L2"
      }
    },
    {
      "cell_type": "code",
      "source": [
        "from sklearn.tree import DecisionTreeClassifier\n",
        "clf = DecisionTreeClassifier()\n",
        "clf.fit(xtrain,ytrain)"
      ],
      "metadata": {
        "colab": {
          "base_uri": "https://localhost:8080/"
        },
        "id": "mFsflXXTO5Gh",
        "outputId": "172fdca3-d645-4630-a392-2bc652b88f42"
      },
      "execution_count": 755,
      "outputs": [
        {
          "output_type": "execute_result",
          "data": {
            "text/plain": [
              "DecisionTreeClassifier()"
            ]
          },
          "metadata": {},
          "execution_count": 755
        }
      ]
    },
    {
      "cell_type": "code",
      "source": [
        "y_pred = clf.predict(xtest)\n",
        "print(\"Train data accuracy:\",accuracy_score(y_true = ytrain, y_pred=clf.predict(xtrain)))\n",
        "print(\"Test data accuracy:\",accuracy_score(y_true = ytest, y_pred=y_pred))"
      ],
      "metadata": {
        "colab": {
          "base_uri": "https://localhost:8080/"
        },
        "id": "UXzK1mvrfa0U",
        "outputId": "75dbb859-bb06-4c54-8bcd-776a293bcf37"
      },
      "execution_count": 756,
      "outputs": [
        {
          "output_type": "stream",
          "name": "stdout",
          "text": [
            "Train data accuracy: 1.0\n",
            "Test data accuracy: 0.9840909090909091\n"
          ]
        }
      ]
    },
    {
      "cell_type": "code",
      "source": [
        "print(classification_report(ytest,y_pred))"
      ],
      "metadata": {
        "colab": {
          "base_uri": "https://localhost:8080/"
        },
        "id": "NGrh7kCNLr6t",
        "outputId": "5bf15208-fa96-44bb-f3f4-c43f0d9b3c74"
      },
      "execution_count": 757,
      "outputs": [
        {
          "output_type": "stream",
          "name": "stdout",
          "text": [
            "              precision    recall  f1-score   support\n",
            "\n",
            "       apple       1.00      1.00      1.00        48\n",
            "      banana       1.00      1.00      1.00        36\n",
            "   blackgram       0.97      0.95      0.96        37\n",
            "    chickpea       1.00      1.00      1.00        47\n",
            "     coconut       1.00      1.00      1.00        43\n",
            "      coffee       1.00      1.00      1.00        39\n",
            "      cotton       1.00      1.00      1.00        40\n",
            "      grapes       1.00      1.00      1.00        36\n",
            "        jute       0.91      0.95      0.93        43\n",
            " kidneybeans       1.00      1.00      1.00        45\n",
            "      lentil       0.90      1.00      0.95        37\n",
            "       maize       1.00      1.00      1.00        37\n",
            "       mango       1.00      1.00      1.00        41\n",
            "   mothbeans       1.00      0.94      0.97        47\n",
            "    mungbean       0.97      0.97      0.97        37\n",
            "   muskmelon       1.00      1.00      1.00        35\n",
            "      orange       1.00      1.00      1.00        35\n",
            "      papaya       1.00      0.95      0.97        40\n",
            "  pigeonpeas       1.00      1.00      1.00        46\n",
            " pomegranate       1.00      1.00      1.00        44\n",
            "        rice       0.94      0.88      0.91        33\n",
            "  watermelon       0.94      1.00      0.97        34\n",
            "\n",
            "    accuracy                           0.98       880\n",
            "   macro avg       0.98      0.98      0.98       880\n",
            "weighted avg       0.98      0.98      0.98       880\n",
            "\n"
          ]
        }
      ]
    },
    {
      "cell_type": "code",
      "source": [
        "tree = clf.predict(predict)"
      ],
      "metadata": {
        "id": "FWOagXmULH_f"
      },
      "execution_count": 758,
      "outputs": []
    },
    {
      "cell_type": "code",
      "source": [
        "#Prediction of Decision tree\n",
        "print(tree)"
      ],
      "metadata": {
        "colab": {
          "base_uri": "https://localhost:8080/"
        },
        "id": "J8ZdNJq0LXen",
        "outputId": "35f68a6b-9324-42c6-8c6c-f51cb37bdff1"
      },
      "execution_count": 759,
      "outputs": [
        {
          "output_type": "stream",
          "name": "stdout",
          "text": [
            "['coffee']\n"
          ]
        }
      ]
    },
    {
      "cell_type": "markdown",
      "source": [
        "svm\n"
      ],
      "metadata": {
        "id": "aY2kUFof5QUq"
      }
    },
    {
      "cell_type": "code",
      "source": [
        "from sklearn import svm"
      ],
      "metadata": {
        "id": "WiMqiWC94j22"
      },
      "execution_count": 760,
      "outputs": []
    },
    {
      "cell_type": "code",
      "source": [
        "clf2=svm.SVC(kernel='linear')\n",
        "clf2.fit(xtrain,ytrain)"
      ],
      "metadata": {
        "colab": {
          "base_uri": "https://localhost:8080/"
        },
        "id": "gf-thOUs4sRZ",
        "outputId": "be468c3f-2c0a-4ddb-a111-850fc1d2d8d7"
      },
      "execution_count": 761,
      "outputs": [
        {
          "output_type": "execute_result",
          "data": {
            "text/plain": [
              "SVC(kernel='linear')"
            ]
          },
          "metadata": {},
          "execution_count": 761
        }
      ]
    },
    {
      "cell_type": "code",
      "source": [
        "predsvm=clf2.predict(xtest)"
      ],
      "metadata": {
        "id": "2rTfpmE542wo"
      },
      "execution_count": 762,
      "outputs": []
    },
    {
      "cell_type": "code",
      "source": [
        "print(\"Accuracy:\", accuracy_score(ytest,predsvm))"
      ],
      "metadata": {
        "colab": {
          "base_uri": "https://localhost:8080/"
        },
        "id": "iQHSodvg49N6",
        "outputId": "de114e39-44e9-4a8a-b9a5-d206f8e11614"
      },
      "execution_count": 763,
      "outputs": [
        {
          "output_type": "stream",
          "name": "stdout",
          "text": [
            "Accuracy: 0.9727272727272728\n"
          ]
        }
      ]
    },
    {
      "cell_type": "code",
      "source": [
        "prednew = clf2.predict(predict)"
      ],
      "metadata": {
        "id": "KxipTJ5L5HXW"
      },
      "execution_count": 764,
      "outputs": []
    },
    {
      "cell_type": "code",
      "source": [
        "#Prediction of SVM\n",
        "print(prednew)"
      ],
      "metadata": {
        "colab": {
          "base_uri": "https://localhost:8080/"
        },
        "id": "s9CrpPrg5nIV",
        "outputId": "81f04b13-24ca-400c-8856-39639075a1e9"
      },
      "execution_count": 765,
      "outputs": [
        {
          "output_type": "stream",
          "name": "stdout",
          "text": [
            "['coffee']\n"
          ]
        }
      ]
    },
    {
      "cell_type": "code",
      "source": [
        "listsOfCropsFinal = []\n",
        "\n",
        "listsOfCropsFinal.append(yprednew[0])\n",
        "listsOfCropsFinal.append(gprednew[0])\n",
        "listsOfCropsFinal.append(bprednew[0])\n",
        "listsOfCropsFinal.append(tree[0])\n",
        "listsOfCropsFinal.append(prednew[0])"
      ],
      "metadata": {
        "id": "kcoLmKxnMiui"
      },
      "execution_count": 766,
      "outputs": []
    },
    {
      "cell_type": "code",
      "source": [
        "listsOfCropsFinal"
      ],
      "metadata": {
        "colab": {
          "base_uri": "https://localhost:8080/"
        },
        "id": "M0R9V6jYNKWo",
        "outputId": "c2f7d8bb-0e9b-4ff2-edb6-061dd7fff8d7"
      },
      "execution_count": 767,
      "outputs": [
        {
          "output_type": "execute_result",
          "data": {
            "text/plain": [
              "['coffee', 'coffee', 'coffee', 'coffee', 'coffee']"
            ]
          },
          "metadata": {},
          "execution_count": 767
        }
      ]
    },
    {
      "cell_type": "code",
      "source": [
        "max_occurrences = []\n",
        "for i in listsOfCropsFinal:\n",
        "   countOfstring= listsOfCropsFinal.count(i)\n",
        "   max_occurrences.append(countOfstring)\n",
        "print(max_occurrences)\n",
        "output = listsOfCropsFinal[max_occurrences.index(max(max_occurrences))]\n",
        "print(output)"
      ],
      "metadata": {
        "colab": {
          "base_uri": "https://localhost:8080/"
        },
        "id": "7Zsgkc-_Nk5y",
        "outputId": "4fdb2e02-e9ee-4402-c6f3-e327eab01fca"
      },
      "execution_count": 768,
      "outputs": [
        {
          "output_type": "stream",
          "name": "stdout",
          "text": [
            "[5, 5, 5, 5, 5]\n",
            "coffee\n"
          ]
        }
      ]
    }
  ]
}